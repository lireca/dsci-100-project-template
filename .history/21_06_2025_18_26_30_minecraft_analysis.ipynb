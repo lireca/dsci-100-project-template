{
 "cells": [
  {
   "cell_type": "code",
   "execution_count": null,
   "id": "9a96c36c-4759-4259-8bba-b20e927fc532",
   "metadata": {},
   "outputs": [],
   "source": [
    "### Run this cell before continuing.\n",
    "library(tidyverse)\n",
    "#library(repr)\n",
    "#library(infer)\n",
    "#library(cowplot)\n",
    "#options(repr.matrix.max.rows = 6)\n",
    "source(\"cleanup.R\")"
   ]
  },
  {
   "cell_type": "raw",
   "id": "c0285af2-9c8f-4f9c-979d-eb90117df0ab",
   "metadata": {},
   "source": [
    "Minecraft"
   ]
  },
  {
   "cell_type": "code",
   "execution_count": null,
   "id": "c806bb6b-a82e-43f6-b0c5-1e828c194f98",
   "metadata": {},
   "outputs": [],
   "source": [
    "players <- read_csv(\"players.csv\")\n",
    "sessions <- read_csv(\"sessions.csv\")\n",
    "tail(players)\n",
    "tail(sessions)"
   ]
  },
  {
   "cell_type": "markdown",
   "id": "bae0eb6e-4468-4c94-b7d6-a8e933370a3a",
   "metadata": {},
   "source": [
    "Clean data and make session data useable, combine data"
   ]
  },
  {
   "cell_type": "code",
   "execution_count": null,
   "id": "63dd510f-98d6-41da-81f7-d1abeda886f3",
   "metadata": {},
   "outputs": [],
   "source": [
    "clean_sessions <- sessions |>\n",
    "    mutate(start_dt = dmy_hm(start_time),\n",
    "           end_dt = dmy_hm(end_time),\n",
    "           session_time_in_hrs = as.numeric(end_dt - start_dt) / 60) |>\n",
    "    group_by(hashedEmail) |>\n",
    "    summarise(total_session_time_hrs = round(sum(session_time_in_hrs), 2), \n",
    "              average_session_time_hrs = round(mean(session_time_in_hrs), 2),\n",
    "              num_of_sessions = n()) |>\n",
    "    filter(!is.na(total_session_time_hrs) | !is.na(average_session_time_hrs)) |>\n",
    "    ungroup() |>\n",
    "    select(hashedEmail, total_session_time_hrs, average_session_time_hrs, num_of_sessions)\n",
    "\n",
    "clean_players <- merge(players, clean_sessions, by = \"hashedEmail\") |>\n",
    "    select(experience, subscribe, Age, total_session_time_hrs, average_session_time_hrs, num_of_sessions)\n",
    "\n",
    "clean_players"
   ]
  },
  {
   "cell_type": "markdown",
   "id": "07794828-0241-465d-946c-a588a61565e2",
   "metadata": {},
   "source": [
    "Plot stuff"
   ]
  },
  {
   "cell_type": "code",
   "execution_count": null,
   "id": "25faf824-1f0d-437b-8a23-7ed58228ece4",
   "metadata": {},
   "outputs": [],
   "source": [
    "played_hrs_vs_"
   ]
  }
 ],
 "metadata": {
  "kernelspec": {
   "display_name": "R",
   "language": "R",
   "name": "ir"
  },
  "language_info": {
   "codemirror_mode": "r",
   "file_extension": ".r",
   "mimetype": "text/x-r-source",
   "name": "R",
   "pygments_lexer": "r",
   "version": "4.3.3"
  }
 },
 "nbformat": 4,
 "nbformat_minor": 5
}
