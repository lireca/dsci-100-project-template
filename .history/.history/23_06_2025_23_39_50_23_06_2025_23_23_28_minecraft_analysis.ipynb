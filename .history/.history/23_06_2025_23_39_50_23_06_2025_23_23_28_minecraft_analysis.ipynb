{
 "cells": [
  {
   "cell_type": "code",
   "execution_count": null,
   "id": "9a96c36c-4759-4259-8bba-b20e927fc532",
   "metadata": {},
   "outputs": [],
   "source": [
    "### Run this cell before continuing.\n",
    "library(tidyverse)\n",
    "library(tidymodels)"
   ]
  },
  {
   "cell_type": "raw",
   "id": "c0285af2-9c8f-4f9c-979d-eb90117df0ab",
   "metadata": {},
   "source": [
    "**Predicting Whether A Player Is Likely To Be Subscribed**\n",
    "\n",
    "In today’s digital gaming world, understanding how users behave is key to boosting engagement and keeping players around. Many gaming platforms use subscription-based models to make money, so knowing what motivates a user to subscribe can guide effective strategies. In this project, we look at how a player’s experience level and their activity during sessions can affect their chances of subscribing. By carefully processing data, visualizing it, and using predictive modeling with k-Nearest Neighbors (KNN), we aim to find important behavior patterns and create a model to predict subscription status.\n",
    "\n",
    "### Question\n",
    "\n",
    "Can a player’s experience level and session activity predict whether they are a subscriber or not?\n",
    "\n",
    "We examine this by modeling the relationship between the **response variable**:\n",
    "\n",
    "- `subscribe` (Yes/No)\n",
    "\n",
    "and the **explanatory variables**:\n",
    "\n",
    "- `experience` (categorical)\n",
    "- `total_session_time_hrs` (numeric)\n",
    "- `average_session_time_hrs` (numeric)\n",
    "- `num_of_sessions` (numeric)"
   ]
  },
  {
   "cell_type": "code",
   "execution_count": null,
   "id": "c806bb6b-a82e-43f6-b0c5-1e828c194f98",
   "metadata": {},
   "outputs": [],
   "source": [
    "players <- read_csv(\"players.csv\")\n",
    "sessions <- read_csv(\"sessions.csv\")\n",
    "tail(players)\n",
    "tail(sessions)"
   ]
  },
  {
   "cell_type": "markdown",
   "id": "790c84ca-19a5-4132-b219-bb3563aa0729",
   "metadata": {},
   "source": [
    "The dataset contains **196 observations**, each representing a unique individual who participated in a study involving an online Minecraft server. There are **7 variables** in total:\n",
    "\n",
    "### Variables\n",
    "\n",
    "| Variable        | Description |\n",
    "|----------------|-------------|\n",
    "| `experience`    | Self-reported skill level in Minecraft. One of: Beginner, Amateur, Regular, Pro, or Veteran. |\n",
    "| `subscribe`     | Whether the participant chose to subscribe to a gaming-related newsletter (Yes/No). |\n",
    "| `hashedEmail`   | A hashed version of the participant’s email address (used as a unique identifier). |\n",
    "| `played_hours`  | The total number of hours the participant had played Minecraft at the time of data collection. |\n",
    "| `name`          | The participant’s name. |\n",
    "| `gender`        | The participant’s gender. |\n",
    "| `Age`           | The participant’s age in years. |\n",
    "\n",
    "| Variable              | Description |\n",
    "|-----------------------|-------------|\n",
    "| `hashedEmail`         | A hashed version of the participant’s email address (used as a unique identifier). |\n",
    "| `start_time`          | The session start time, formatted as `dd/mm/yyyy hh:mm`. |\n",
    "| `end_time`            | The session end time, formatted as `dd/mm/yyyy hh:mm`. |\n",
    "| `original_start_time` | The raw numeric timestamp representing the start time (POSIX-style format). |\n",
    "| `original_end_time`   | The raw numeric timestamp representing the end time. |\n",
    "\n",
    "### Data Source and Collection Context\n",
    "\n",
    "The data was collected from a free public Minecraft server operated by researchers at the University of British Columbia (UBC). The broader goal of this project was to gather behavioral and demographic information to support the eventual development of an AI agent capable of playing Minecraft.\n",
    "\n",
    "### Data Quality Notes\n",
    "\n",
    "Overall, the dataset appears to be of high quality. However, there are minor inconsistencies in variable naming conventions:\n",
    "- Some variables use `snake_case` (e.g., `played_hours`), others use `camelCase` (e.g., `hashedEmail`), and some are inconsistently capitalized (e.g., `Age`).\n",
    "- These inconsistencies are minor and do not affect the overall integrity or usability of the dataset."
   ]
  },
  {
   "cell_type": "markdown",
   "id": "e393cf5d-253f-44d0-af04-d7a1ad0d67fb",
   "metadata": {},
   "source": [
    "### Cleaning and Merging the Data\n",
    "\n",
    "First, we process the `sessions` dataset to calculate session-level summaries for each player:\n",
    "\n",
    "- We convert `start_time` and `end_time` to date-time objects using `dmy_hm()`.\n",
    "- We compute the session duration in hours by taking the difference between `end_dt` and `start_dt`, then dividing by 60.\n",
    "- We group the data by `hashedEmail` to summarize sessions for each player.\n",
    "- For each player, we calculate:\n",
    "  - `total_session_time_hrs`: the total time played across all sessions.\n",
    "  - `average_session_time_hrs`: the mean duration of a session.\n",
    "  - `num_of_sessions`: the total number of sessions.\n",
    "- We remove any rows where both `total_session_time_hrs` and `average_session_time_hrs` are missing.\n",
    "- We select only the relevant summary columns for further analysis.\n",
    "\n",
    "Next, we join the cleaned session summaries with the original `players` dataset using the `hashedEmail` key. This gives us a single dataset, `clean_players`, that contains both demographic and behavioral data.\n",
    "\n",
    "Then, we do the following:\n",
    "\n",
    "- Select only the columns we care about: `experience`, `subscribe`, `Age`, `total_session_time_hrs`, `average_session_time_hrs`, and `num_of_sessions`.\n",
    "- Convert `experience` into an ordered factor so that the levels reflect increasing proficiency: Beginner < Amateur < Regular < Pro < Veteran.\n",
    "\n",
    "This prepares the data for analysis and modeling by ensuring all variables are in a consistent, usable format."
   ]
  },
  {
   "cell_type": "code",
   "execution_count": null,
   "id": "63dd510f-98d6-41da-81f7-d1abeda886f3",
   "metadata": {},
   "outputs": [],
   "source": [
    "clean_sessions <- sessions |>\n",
    "    mutate(start_dt = dmy_hm(start_time),\n",
    "           end_dt = dmy_hm(end_time),\n",
    "           session_time_in_hrs = as.numeric(end_dt - start_dt) / 60) |>\n",
    "    group_by(hashedEmail) |>\n",
    "    summarise(total_session_time_hrs = round(sum(session_time_in_hrs), 2), \n",
    "              average_session_time_hrs = round(mean(session_time_in_hrs), 2),\n",
    "              num_of_sessions = n()) |>\n",
    "    filter(!is.na(total_session_time_hrs) | !is.na(average_session_time_hrs)) |>\n",
    "    ungroup() |>\n",
    "    select(hashedEmail, total_session_time_hrs, average_session_time_hrs, num_of_sessions)\n",
    "\n",
    "clean_players <- merge(players, clean_sessions, by = \"hashedEmail\") |>\n",
    "    mutate(experience = factor(experience, levels = c(\"Beginner\", \"Amateur\", \"Regular\", \"Pro\", \"Veteran\"))) |>\n",
    "    select(experience, subscribe, Age, total_session_time_hrs, average_session_time_hrs, num_of_sessions)\n",
    "\n",
    "clean_players"
   ]
  },
  {
   "cell_type": "markdown",
   "id": "fd43349f-97ff-41c3-9a3a-88c30bc86f54",
   "metadata": {},
   "source": [
    "### Visualizing Player Experience and Session Activity\n",
    "\n",
    "We created two visualizations to explore how player experience and session activity relate to subscription status:\n",
    "\n",
    "- **Experience vs Proportion of Subscribers:**  \n",
    "  A filled bar plot showing the proportion of subscribed vs non-subscribed players across different experience levels.\n",
    "\n",
    "- **Number of Sessions vs Proportion of Subscribers:**  \n",
    "  A filled histogram showing how subscription rates vary by the number of sessions played.\n",
    "\n",
    "Both plots use a consistent color palette and minimalist theme for clarity."
   ]
  },
  {
   "cell_type": "code",
   "execution_count": null,
   "id": "25faf824-1f0d-437b-8a23-7ed58228ece4",
   "metadata": {},
   "outputs": [],
   "source": [
    "options(repr.plot.width = 10, repr.plot.height = 10)\n",
    "\n",
    "experience_vs_sub <- clean_players |>\n",
    "    ggplot(aes(x = experience, fill = subscribe)) + geom_bar(position = \"fill\") +\n",
    "    labs(x = \"Experience Level of Players (Beginner, Amateur, Regular, Pro, Veteran)\",\n",
    "         y = \"Subscribed Percentage (0.00 - 1.00)\",\n",
    "         fill = \"Subscribed/Not Subscribed\") +\n",
    "    ggtitle(\"Experience vs Proportion of Subscribers\") + \n",
    "    scale_fill_brewer(palette = \"Set1\") + \n",
    "    theme_minimal()\n",
    "\n",
    "session_freq_vs_sub <- clean_players |> \n",
    "    ggplot(aes(x = num_of_sessions, fill = subscribe)) +\n",
    "    geom_histogram(position = \"fill\", bins = 15) +\n",
    "    labs(x = \"Number of Sessions\",\n",
    "         y = \"Proportion of Players\",\n",
    "         fill = \"Subscribed Status\") +\n",
    "    ggtitle(\"Number of Sessions vs Proportion of Subscribers\") +\n",
    "    scale_fill_brewer(palette = \"Set1\") + \n",
    "    theme_minimal()\n",
    "\n",
    "experience_vs_sub\n",
    "session_freq_vs_sub"
   ]
  },
  {
   "cell_type": "markdown",
   "id": "8a7bf3cb-9c81-40ac-a551-58462c09513e",
   "metadata": {},
   "source": [
    "### Analysis of Visualizations\n",
    "\n",
    "#### Experience vs Proportion of Subscribers\n",
    "\n",
    "The bar plot shows the proportion of players who subscribed compared to those who did not, organized by experience level:\n",
    "\n",
    "- **Subscription rates generally increase with experience level.**  \n",
    "  Beginners and Amateurs have noticeably lower subscription rates, while Regular, Pro, and Veteran players tend to subscribe more often.\n",
    "- This suggests that more experienced players may be more engaged or see greater value in subscribing.\n",
    "\n",
    "#### Number of Sessions vs Proportion of Subscribers\n",
    "\n",
    "The histogram displays the distribution of the number of sessions played, categorized by subscription status:\n",
    "\n",
    "- **Players with more sessions are more likely to be subscribers.**  \n",
    "  The proportion of subscribed players rises with the number of sessions.\n",
    "- There is a clear trend showing that casual players with fewer sessions tend to be non-subscribers.\n",
    "- This indicates that session frequency is a strong indicator of the likelihood of subscription.\n",
    "\n",
    "### Summary\n",
    "\n",
    "Both experience level and session frequency are positively linked to subscription"
   ]
  },
  {
   "cell_type": "markdown",
   "id": "965e8e75-d215-4a89-b400-5207f57ebb8b",
   "metadata": {},
   "source": [
    "### Final Data Preparation for Modeling\n",
    "\n",
    "We made two final adjustments to the `clean_players` dataset:\n",
    "\n",
    "- We changed `subscribe` to a factor to ensure it is treated as a categorical variable in modeling.\n",
    "- We changed `experience` from an ordered factor to a numeric variable, so it can be used as a quantitative predictor in the model."
   ]
  },
  {
   "cell_type": "code",
   "execution_count": null,
   "id": "e144a45a-4979-4eca-bcf5-a979b547059f",
   "metadata": {},
   "outputs": [],
   "source": [
    "clean_players = clean_players |>\n",
    "    mutate(subscribe = as.factor(clean_players$subscribe),\n",
    "           experience = as.numeric(clean_players$experience))"
   ]
  },
  {
   "cell_type": "code",
   "execution_count": null,
   "id": "e0511b68-6c68-4bba-8f93-bb5913cd828b",
   "metadata": {},
   "outputs": [],
   "source": [
    "Now we will create a k-Nearest Neighbors classification model to predict subscription based on experience level and age. \n",
    "\n",
    "We will start by dividing the dataset into training (75%) and testing (25%) subsets. \n",
    "Next, we will use 5-fold cross-validation on the training set to adjust the number of neighbors by checking values from 1 to 10. \n",
    "Then, we can use the testing data to determine the accuracy of this model."
   ]
  },
  {
   "cell_type": "code",
   "execution_count": null,
   "id": "14639961-6b2a-40aa-a808-da3805d32a4f",
   "metadata": {},
   "outputs": [],
   "source": [
    "set.seed(1) # Ensures same best k value each time\n",
    "\n",
    "players_split <- initial_split(clean_players, prop = 0.75, strata = subscribe)\n",
    "players_training <- training(players_split)\n",
    "players_test <- testing(players_split)\n",
    "\n",
    "players_recipe <- recipe(subscribe ~ experience + average_session_time_hrs + num_of_sessions +\n",
    "                         total_session_time_hrs,\n",
    "                         data = players_training) |>\n",
    "    step_scale(all_predictors()) |>\n",
    "    step_center(all_predictors())\n",
    "\n",
    "test_knn_spec = nearest_neighbor(weight_func = \"rectangular\", neighbors = tune()) |> \n",
    "    set_engine(\"kknn\") |> \n",
    "    set_mode(\"classification\")\n",
    "\n",
    "training_vfold = vfold_cv(players_training, v = 5, strata = subscribe)\n",
    "k_vals <- tibble(neighbors = seq(from = 1, to = 10, by = 1))\n",
    "\n",
    "knn_results <- workflow() |>\n",
    "    add_recipe(players_recipe) |>\n",
    "    add_model(test_knn_spec) |>\n",
    "    tune_grid(resamples = training_vfold, grid = k_vals) |>\n",
    "    collect_metrics()\n",
    "\n",
    "accuracies <- knn_results |>\n",
    "    filter(.metric == \"accuracy\")\n",
    "\n",
    "accuracy_vs_k <- accuracies  |>\n",
    "    ggplot(aes(x = neighbors, y = mean)) + geom_point() +\n",
    "    geom_line() +\n",
    "    labs(x = \"Neighbors\", y = \"Accuracy Estimate\") +\n",
    "    theme(text = element_text(size = 12))\n",
    "\n",
    "accuracy_vs_k\n",
    "# Visually we can see that k = 7 is the best, \n",
    "# but we can also double check using the following:\n",
    "\n",
    "best_k <- accuracies |>\n",
    "        arrange(desc(mean)) |>\n",
    "        head(1) |>\n",
    "        pull(neighbors)\n",
    "best_k\n"
   ]
  },
  {
   "cell_type": "markdown",
   "id": "fa7c8574-e128-4049-8df5-3aa647334414",
   "metadata": {},
   "source": [
    "Train model using new found value of k."
   ]
  },
  {
   "cell_type": "code",
   "execution_count": null,
   "id": "00d946b6-b7a0-40a3-89f4-6384137ee91b",
   "metadata": {},
   "outputs": [],
   "source": [
    "players_tuned_spec = nearest_neighbor(weight_func = \"rectangular\", neighbors = 7) |>\n",
    "    set_engine(\"kknn\") |>\n",
    "    set_mode(\"classification\")\n",
    "\n",
    "players_best_fit = workflow() |>\n",
    "    add_recipe(players_recipe) |>\n",
    "    add_model(players_tuned_spec) |>\n",
    "    fit(data = players_training)"
   ]
  },
  {
   "cell_type": "markdown",
   "id": "1420ec4a-5d77-4929-b3bc-208b41c42dd6",
   "metadata": {},
   "source": [
    "Using our trained model, we evaluated predictions on the training data and found an accuracy of about 64.5% with the metrics() function. We tried different predictor variables and adjusted the number of neighbors (k), but this is still the highest accuracy we can achieve. This accuracy suggests that the model has limited predictive ability and is not an effective classifier for subscription status."
   ]
  },
  {
   "cell_type": "code",
   "execution_count": null,
   "id": "a1bc9fa4-342d-4f95-810c-922add011cc3",
   "metadata": {},
   "outputs": [],
   "source": [
    "players_test_predictions <- predict(players_best_fit, players_test) |>\n",
    "    bind_cols(players_test)\n",
    "\n",
    "accuracy <- players_test_predictions |>\n",
    "    metrics(truth = subscribe, estimate = .pred_class) |>\n",
    "    filter(.metric == \"accuracy\")\n",
    "\n",
    "accuracy"
   ]
  },
  {
   "cell_type": "markdown",
   "id": "45177f7c-b362-4230-a3bd-10ae87f35283",
   "metadata": {},
   "source": [
    "Instead of focusing only on accuracy, let's create a confusion matrix to look at other important metrics like precision and recall. These metrics give us a better understanding of how the model performs, especially when class imbalance can impact accuracy."
   ]
  },
  {
   "cell_type": "code",
   "execution_count": null,
   "id": "456cf148-17f3-4c7e-a9c7-897e307a6dcd",
   "metadata": {},
   "outputs": [],
   "source": [
    "levels(clean_players$subscribe) # Check which level comes first \n",
    "\n",
    "players_precision <- players_test_predictions |>\n",
    "    precision(truth = subscribe, estimate = .pred_class, event_level = \"second\")\n",
    "players_recall <- players_test_predictions |>\n",
    "    recall(truth = subscribe, estimate = .pred_class, event_level = \"second\")\n",
    "\n",
    "confusion <- players_test_predictions |>\n",
    "    conf_mat(truth = subscribe, estimate = .pred_class)\n",
    "\n",
    "confusion"
   ]
  },
  {
   "cell_type": "code",
   "execution_count": null,
   "id": "51c129c7-db46-426e-b1c5-b14e0d218ffd",
   "metadata": {},
   "outputs": [],
   "source": [
    "The confusion matrix shows that the model correctly identified 19 subscribers (true positives) and only 1 non-subscriber (true negative).\n",
    "However, it misclassified 7 non-subscribers as subscribers (false positives) and missed 4 actual subscribers by predicting them \n",
    "as non-subscribers (false negatives). This indicates that the model is much better at detecting subscribers than non-subscribers \n",
    "but tends to over-predict subscription status. Because of this imbalance, it's important to evaluate metrics like precision and \n",
    "recall for a better understanding of the model's performance beyond overall accuracy. Evaluating precision and recall gives more insight \n",
    "into how well the model works. The precision of the model is about 73%, meaning that when it predicts a player is subscribed, \n",
    "it is correct roughly 73% of the time. The recall is about 83%, indicating the model successfully identifies 83% of all actual \n",
    "subscribers. These results show that the model is fairly good at detecting subscribers, but there is still room to reduce false \n",
    "positives and false negatives."
   ]
  },
  {
   "cell_type": "markdown",
   "id": "49868976-7e1c-4582-8538-5d1e1064e20f",
   "metadata": {},
   "source": [
    "**Discussion**\n",
    "\n",
    "**Summary of findings:**  \n",
    "The goal of this notebook was to see if we could predict subscriptions based on a player’s experience level and session activity. We began by looking at how many people subscribed at different experience levels and session frequencies. The plots showed some patterns. More experienced players were a bit more likely to subscribe, but the difference wasn’t strong. In contrast, the number of sessions and average session time had a clearer link: players who spent more time or had more sessions were more likely to subscribe. Next, we created a k-Nearest Neighbors (k-NN) model using three factors: experience level, number of sessions, and average session time. We wanted to find out if these factors could predict a player's subscription status. The model was trained using 5-fold cross-validation to adjust the number of neighbors (k), and the best result came with k = 7. However, even with the best k value, the model achieved only about 59% accuracy on the test set, which was lower than just guessing that everyone subscribed. This shows that the model had trouble telling subscribers apart from non-subscribers.\n",
    "\n",
    "**Was This What We Expected?**\n",
    "\n",
    "This result was mostly what we anticipated. Before the analysis, we thought that neither experience level nor session activity alone would strongly predict subscriptions. While session frequency did show some correlation, the model's performance confirmed our belief that it would be hard to create an accurate classifier with such limited inputs. The little variation in experience categories and the similarities in session patterns among users likely made it tougher for the model to identify useful patterns.\n",
    "\n",
    "**What Impact Could These Findings Have?**\n",
    "\n",
    "These results suggest that basic gameplay metrics like session count and experience level may not be enough by themselves to predict subscription behavior. For gaming companies or newsletter marketers, this means that more personalized or behavioral data could be essential for effectively targeting potential subscribers. It also shows the need to avoid relying too heavily on one or two user features when making marketing or product decisions.\n",
    "\n",
    "**What Future Questions Could This Lead To?**\n",
    "\n",
    "One important question raised by this analysis is whether we can use this information to better engage players and increase subscription rates. For example, if session activity is even slightly linked to subscription behavior, platforms could find highly active players and target them with personalized subscription prompts or incentives. Also, knowing which player types are more likely to subscribe could help shape marketing strategies. This could involve focusing on new but active players or those in specific age groups. Over time, combining behavioral data with user feedback could lead to engagement strategies that feel relevant and timely for each player, rather than generic or intrusive."
   ]
  }
 ],
 "metadata": {
  "kernelspec": {
   "display_name": "R",
   "language": "R",
   "name": "ir"
  },
  "language_info": {
   "codemirror_mode": "r",
   "file_extension": ".r",
   "mimetype": "text/x-r-source",
   "name": "R",
   "pygments_lexer": "r",
   "version": "4.3.3"
  }
 },
 "nbformat": 4,
 "nbformat_minor": 5
}
